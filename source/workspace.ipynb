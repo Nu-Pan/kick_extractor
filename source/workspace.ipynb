{
 "cells": [
  {
   "cell_type": "markdown",
   "id": "62bb2b8d-fa08-465d-89fb-5e01e5724454",
   "metadata": {},
   "source": [
    "# インポート"
   ]
  },
  {
   "cell_type": "code",
   "execution_count": null,
   "id": "c9086cd9-24f8-4a43-87f3-4dc918a90b8c",
   "metadata": {},
   "outputs": [],
   "source": [
    "# import packages\n",
    "\n",
    "# python\n",
    "import os\n",
    "from glob import glob\n",
    "import math\n",
    "\n",
    "# numpt\n",
    "import numpy as np\n",
    "\n",
    "# scipy\n",
    "import scipy.signal\n",
    "\n",
    "# bokeh\n",
    "from bokeh.plotting import output_notebook, figure, show\n",
    "output_notebook()\n",
    "\n",
    "# local\n",
    "from WavData import WavData\n",
    "import FileUtil\n",
    "import SignalProcessingUtil as spu\n",
    "import NotebookUtil as nu"
   ]
  },
  {
   "cell_type": "markdown",
   "id": "c435bf3d-2cab-4f82-b8e2-931cb4d30b9d",
   "metadata": {},
   "source": [
    "# データディレクトリ内のファイルを列挙"
   ]
  },
  {
   "cell_type": "code",
   "execution_count": null,
   "id": "b3b86ab8-eb22-4552-8e03-1ee11c024258",
   "metadata": {},
   "outputs": [],
   "source": [
    "# enumerate\n",
    "top_dir = os.environ.get('PWD')\n",
    "print(f'top_dir={top_dir}')\n",
    "wav_files = glob(os.path.join(top_dir, 'data/*.wav'))\n",
    "\n",
    "# dump\n",
    "wav_files"
   ]
  },
  {
   "cell_type": "markdown",
   "id": "928a790b-0116-4817-8dc5-6fe40259b08d",
   "metadata": {},
   "source": [
    "# 入力ファイルをロード"
   ]
  },
  {
   "cell_type": "code",
   "execution_count": null,
   "id": "3aca173b-0473-425d-9255-69c100d13ba2",
   "metadata": {},
   "outputs": [],
   "source": [
    "# TODO 決め打ち\n",
    "src_path = '/kick_extractor/data/Need U 100% - Alex Prospect & Spyro_2.wav'\n",
    "\n",
    "# load\n",
    "wav_data = FileUtil.load_wav_file(src_path)\n",
    "\n",
    "# plot\n",
    "nu.plot_wav_data({'original waveform': wav_data})"
   ]
  },
  {
   "cell_type": "markdown",
   "id": "fa70d72b-46c1-4fae-99fe-3db97b5c5f30",
   "metadata": {
    "tags": []
   },
   "source": [
    "# pre-process wav data"
   ]
  },
  {
   "cell_type": "code",
   "execution_count": null,
   "id": "acb6e16f-5a75-4b8e-866a-50d524f034cf",
   "metadata": {},
   "outputs": [],
   "source": [
    "# TODO 決め打ちのパラメータ\n",
    "beat_per_minute = 170\n",
    "beat_length_in_sec = 60 / 170\n",
    "peak_filter_initial_frequency_in_hz = 80\n",
    "peak_filter_bandwidth_in_hz = 100 #200\n",
    "\n",
    "# 先頭 1/8 音符分を切り出し\n",
    "beat_length_in_sample = beat_length_in_sec * wav_data.sample_rate\n",
    "wav_data_truncated = WavData(wav_data.sample_rate, wav_data.samples[:,:int(beat_length_in_sample/2)])\n",
    "\n",
    "# モノラルにミックスダウン\n",
    "wav_data_mono = WavData(wav_data_truncated.sample_rate, np.mean(wav_data_truncated.samples, axis=0))\n",
    "\n",
    "# 最も大きい正弦波以外の周波数帯をカットオフして「キレイ」にする\n",
    "wav_data_mono_smoothed_max = np.zeros_like(wav_data_mono.samples)\n",
    "wav_data_mono_smoothed_min = np.zeros_like(wav_data_mono.samples)\n",
    "for f in [f for f in np.geomspace(40, 240, 256)]:\n",
    "    for q in [q for q in np.linspace(100, 200, 25)]:\n",
    "        wav_data_mono_filtered = spu.apply_peak_filter(wav_data_mono, peak_filter_bandwidth_in_hz, f).samples\n",
    "        wav_data_mono_smoothed_max = np.fmax(wav_data_mono_smoothed_max, wav_data_mono_filtered)\n",
    "        wav_data_mono_smoothed_min = np.fmin(wav_data_mono_smoothed_min, wav_data_mono_filtered)\n",
    "wav_data_mono_smoothed = WavData(wav_data_mono.sample_rate, wav_data_mono_smoothed_max + wav_data_mono_smoothed_min)\n",
    "\n",
    "# 結果をプロット\n",
    "nu.plot_wav_data({'original waveform': wav_data_mono, 'smoothed waveform': wav_data_mono_smoothed})"
   ]
  },
  {
   "cell_type": "markdown",
   "id": "424cac8b-714b-4a8b-99ae-a235a9404a0d",
   "metadata": {
    "tags": []
   },
   "source": [
    "# 極値を探索"
   ]
  },
  {
   "cell_type": "code",
   "execution_count": null,
   "id": "ad12702c-c80c-4bdb-a4e3-2001d0edea89",
   "metadata": {},
   "outputs": [],
   "source": [
    "# 極値検出関数\n",
    "def detect_next_extrema(wav_data: WavData, base_position_in_sample: int, filter_frequency_in_hz: float, direction: int):\n",
    "    # wav_data_filtered = spu.apply_peak_filter(wav_data, peak_filter_bandwidth_in_hz, filter_frequency_in_hz)\n",
    "    # extremas = scipy.signal.argrelextrema(wav_data_filtered.samples, np.greater)[0]\n",
    "    extremas = scipy.signal.argrelextrema(wav_data.samples, np.greater)[0]\n",
    "    base_position_extremas_index = np.abs(np.asarray(extremas) - base_position_in_sample).argmin()\n",
    "    next_position_extremas_index = base_position_extremas_index + direction\n",
    "    if not 0 <= next_position_extremas_index < len(extremas):\n",
    "        return None\n",
    "    next_position_in_sample = extremas[next_position_extremas_index]\n",
    "    next_filter_period_in_sample = abs(base_position_in_sample - next_position_in_sample) * 2.0 # 隣の極値までの距離（サンプル数）は半周期分なので２倍する\n",
    "    next_filter_period_in_sec = next_filter_period_in_sample / wav_data.sample_rate\n",
    "    next_filter_frequency_in_hz = 1.0 / next_filter_period_in_sec\n",
    "    return (next_position_in_sample, next_filter_frequency_in_hz)\n",
    "\n",
    "# 種となる最初の極値を検出\n",
    "wav_data_mono_smoothed_abs = WavData(wav_data_mono_smoothed.sample_rate, np.abs(wav_data_mono_smoothed.samples))\n",
    "initial_extrema_position_in_sample = np.argmax(wav_data_mono_smoothed_abs.samples)\n",
    "\n",
    "# 初期極値から左（過去）に向けて極値を探索\n",
    "left_side_extrema_positions_in_sample = []\n",
    "current_extrema_position_in_sample = initial_extrema_position_in_sample\n",
    "current_preak_filter_frequency_in_hz = peak_filter_initial_frequency_in_hz\n",
    "while True:\n",
    "    detection_result = detect_next_extrema(wav_data_mono_smoothed_abs, current_extrema_position_in_sample, current_preak_filter_frequency_in_hz, -1)\n",
    "    if detection_result is None:\n",
    "        break\n",
    "    current_extrema_position_in_sample, current_preak_filter_frequency_in_hz = detection_result\n",
    "    if len(left_side_extrema_positions_in_sample) > 0 and current_extrema_position_in_sample > left_side_extrema_positions_in_sample[0]:\n",
    "        break\n",
    "    left_side_extrema_positions_in_sample.append(current_extrema_position_in_sample)\n",
    "\n",
    "# 初期極値から右（未来）に向けて極値を探索\n",
    "right_side_extrema_positions_in_sample = []\n",
    "current_extrema_position_in_sample = initial_extrema_position_in_sample\n",
    "current_preak_filter_frequency_in_hz = peak_filter_initial_frequency_in_hz\n",
    "while True:\n",
    "    detection_result = detect_next_extrema(wav_data_mono_smoothed_abs, current_extrema_position_in_sample, current_preak_filter_frequency_in_hz, +1)\n",
    "    if detection_result is None:\n",
    "        break\n",
    "    current_extrema_position_in_sample, current_preak_filter_frequency_in_hz = detection_result\n",
    "    if len(right_side_extrema_positions_in_sample) > 0 and current_extrema_position_in_sample < right_side_extrema_positions_in_sample[-1]:\n",
    "        break\n",
    "    right_side_extrema_positions_in_sample.append(current_extrema_position_in_sample)\n",
    "\n",
    "# 結合\n",
    "extrema_positions_in_sample = np.asarray( list(reversed(left_side_extrema_positions_in_sample)) + [initial_extrema_position_in_sample] + right_side_extrema_positions_in_sample )\n",
    "\n",
    "# プロット\n",
    "extrema_pulse = WavData(wav_data_mono_smoothed.sample_rate, np.zeros_like(wav_data_mono_smoothed.samples))\n",
    "for i in extrema_positions_in_sample:\n",
    "    extrema_pulse.samples[i] = wav_data_mono_smoothed.samples[i]\n",
    "nu.plot_wav_data({'extrema': extrema_pulse, 'smoothed waveform': wav_data_mono_smoothed})"
   ]
  },
  {
   "cell_type": "markdown",
   "id": "b26c2aa9-37b0-477c-bb6e-8dabd961a62c",
   "metadata": {},
   "source": [
    "# 極端な外れ値を除外\n",
    "- 外れ値リストの中央を始点として外れ値を探索する\n",
    "- 極値の極性が隣接極値と反対になってない＝反対になってない隣接極値を外れ値とみなす\n",
    "- 外れ値で挟まれた閉区間の外側を外れ値として除外する"
   ]
  },
  {
   "cell_type": "code",
   "execution_count": null,
   "id": "d1d1c47c-7904-4f94-925c-86f5bce85deb",
   "metadata": {},
   "outputs": [],
   "source": [
    "# 「どちらか一方の隣接極値と符号が同一なら True 」な配列を生成(is_outlier)\n",
    "extrema_signes = wav_data_mono_smoothed.samples[extrema_positions_in_sample] > 0.0\n",
    "extrema_signes_shift_left = np.roll(extrema_signes, -1)\n",
    "extrema_signes_shift_left[-1] = extrema_signes[-1]\n",
    "extrema_signes_shift_right = np.roll(extrema_signes, 1)\n",
    "extrema_signes_shift_right[0] = extrema_signes[0]\n",
    "is_outlier = ( extrema_signes == extrema_signes_shift_left ) | ( extrema_signes == extrema_signes_shift_right )\n",
    "\n",
    "# 中央から左（過去）方向に向けて外れ値を探索\n",
    "initial_extrema_index = int(extrema_positions_in_sample.size / 2)\n",
    "outlier_index_left = initial_extrema_index\n",
    "outlier_index_right = initial_extrema_index\n",
    "while ( 0 < outlier_index_left ) and ( not is_outlier[outlier_index_left] ):\n",
    "    outlier_index_left = outlier_index_left - 1\n",
    "while ( outlier_index_right < is_outlier.size - 1 ) and ( not is_outlier[outlier_index_right] ):\n",
    "    outlier_index_right = outlier_index_right + 1\n",
    "\n",
    "# 切り出し\n",
    "inlier_extrema_positions_in_samples = extrema_positions_in_sample[outlier_index_left:outlier_index_right]\n",
    "\n",
    "# プロット\n",
    "extrema_pulse = WavData(wav_data_mono_smoothed.sample_rate, np.zeros_like(wav_data_mono_smoothed.samples))\n",
    "for i in inlier_extrema_positions_in_samples:\n",
    "    extrema_pulse.samples[i] = wav_data_mono_smoothed.samples[i]\n",
    "nu.plot_wav_data({'extrema': extrema_pulse, 'smoothed waveform': wav_data_mono_smoothed})"
   ]
  },
  {
   "cell_type": "markdown",
   "id": "029c7479-5a16-411a-b269-12efa9e1eb86",
   "metadata": {},
   "source": [
    "# ゼロクロス点（サブサンプル精度）を抽出"
   ]
  },
  {
   "cell_type": "code",
   "execution_count": null,
   "id": "6d06b8c9-c7f2-497a-b4da-5feedfe0d3ba",
   "metadata": {},
   "outputs": [],
   "source": [
    "# 全てのゼロクロス点を抽出\n",
    "zero_cross_point_in_samples = np.asarray( np.nonzero( ( wav_data_mono_smoothed.samples[:-1] > 0.0 ) ^ ( np.roll(wav_data_mono_smoothed.samples, -1)[:-1] > 0.0 ) ) ).flatten()\n",
    "\n",
    "# インライア近傍のゼロクロス点を抽出\n",
    "inliner_zero_cross_point_in_samples = zero_cross_point_in_samples[(inlier_extrema_positions_in_samples[0] < zero_cross_point_in_samples) & (zero_cross_point_in_samples < inlier_extrema_positions_in_samples[-1])]\n",
    "\n",
    "# サブサンプルオフセットを推定\n",
    "#\n",
    "# ゼロクロス点前後のサンプルを通る直線は\n",
    "# y = (samples[i+1] - samples[i]) * x + samples[i]\n",
    "# これを y = 0 として x について解くと\n",
    "# x = -samples[i] / (samples[i+1] - samples[i])\n",
    "# これをベクトル演算で頑張ると↓になる\n",
    "slope = wav_data_mono_smoothed.samples[inliner_zero_cross_point_in_samples+1] - wav_data_mono_smoothed.samples[inliner_zero_cross_point_in_samples]\n",
    "intercept = wav_data_mono_smoothed.samples[inliner_zero_cross_point_in_samples]\n",
    "subsample_offset = -intercept / slope\n",
    "\n",
    "# サブサンプル精度のゼロクロス点を計算\n",
    "inliner_zero_cross_points_in_subsamples = inliner_zero_cross_point_in_samples + subsample_offset\n",
    "\n",
    "# ダンプ\n",
    "# TODO 波形とエンベロープのオーバーレイ表示機能が必要\n",
    "print(inliner_zero_cross_points_in_subsamples)"
   ]
  },
  {
   "cell_type": "markdown",
   "id": "9525d95e-3869-45e9-af83-ff71f6206077",
   "metadata": {
    "tags": []
   },
   "source": [
    "# 極値位置をサブサンプル精度化\n",
    "- 半周期の正弦波を当てはめる\n",
    "- 当てはめ結果の「時の山のてっぺん」を新しいサンプル位置として採用する"
   ]
  },
  {
   "cell_type": "code",
   "execution_count": null,
   "id": "829c269b-6547-45ee-a7b2-a38d4585e774",
   "metadata": {},
   "outputs": [],
   "source": [
    "# TODO\n",
    "inlier_extrema_positions_in_subsamples = inlier_extrema_positions_in_samples"
   ]
  },
  {
   "cell_type": "markdown",
   "id": "2f2239d4-7ef7-486a-b999-28e99f042940",
   "metadata": {},
   "source": [
    "# ゼロクロスと極値をマージ"
   ]
  },
  {
   "cell_type": "code",
   "execution_count": null,
   "id": "d42d80f8-dd4b-4e97-8423-a0e4e0288bd4",
   "metadata": {},
   "outputs": [],
   "source": [
    "# DEBUG\n",
    "#inlier_control_points_in_subsamples = np.sort( np.concatenate([inlier_extrema_positions_in_subsamples, inliner_zero_cross_points_in_subsamples]) )\n",
    "inlier_control_points_in_subsamples = np.sort( np.concatenate([inlier_extrema_positions_in_samples, inliner_zero_cross_points_in_subsamples]) )\n",
    "\n",
    "# TODO 波形とエンベロープのオーバーレイ表示機能が必要\n",
    "print(inliner_zero_cross_points_in_subsamples)\n",
    "nu.plot_envelope({'control points': np.vstack((inlier_control_points_in_subsamples, wav_data_mono_smoothed.samples[inlier_control_points_in_subsamples.astype(np.int32)]))}, is_log_scale=False)\n"
   ]
  },
  {
   "cell_type": "markdown",
   "id": "9735c772-1965-48a3-af28-c6c7c3b18b85",
   "metadata": {},
   "source": [
    "# ゼロクロスと極値で比較\n",
    "- 正弦波のフィッティングでサブサンプル精度化するのはダメダメだった"
   ]
  },
  {
   "cell_type": "code",
   "execution_count": null,
   "id": "3d14765f-3215-4255-9636-02d4a696fa24",
   "metadata": {},
   "outputs": [],
   "source": [
    "def plot_frequency(points_in_subsamples):\n",
    "    # 極値をもとに周期を計算（半周期なので２倍する）\n",
    "    inlier_extrema_periods_in_samples = (np.roll(points_in_subsamples, -1) - points_in_subsamples)[:-1] * 2\n",
    "\n",
    "    # 周波数に変換\n",
    "    inlier_extrema_preiods_in_sec = inlier_extrema_periods_in_samples / wav_data_mono_smoothed.sample_rate\n",
    "    inlier_extrema_frequency_in_hz = 1.0 / inlier_extrema_preiods_in_sec\n",
    "\n",
    "    # プロット\n",
    "    nu.plot_envelope({'freq': np.vstack((points_in_subsamples[:-1], inlier_extrema_frequency_in_hz))}, is_log_scale=True)\n",
    "    \n",
    "plot_frequency(inlier_extrema_positions_in_samples)\n",
    "plot_frequency(inlier_extrema_positions_in_subsamples)\n",
    "plot_frequency(inliner_zero_cross_points_in_subsamples)\n",
    "plot_frequency(inlier_control_points_in_subsamples)"
   ]
  },
  {
   "cell_type": "markdown",
   "id": "e458a500-7ff9-4b51-934b-734b127e0e84",
   "metadata": {
    "tags": []
   },
   "source": [
    "# 粗い周波数推移を推定\n",
    "- 極値周辺の周波数を隣接極値との距離を元に粗く推定"
   ]
  },
  {
   "cell_type": "code",
   "execution_count": null,
   "id": "743d65bd-3f54-4c5b-871a-bbc73e39ca53",
   "metadata": {},
   "outputs": [],
   "source": [
    "# 極値をもとに周期を計算（半周期なので２倍する）\n",
    "inlier_extrema_periods_in_samples = (np.roll(inlier_control_points_in_subsamples, -1) - inlier_control_points_in_subsamples)[:-1] * 2\n",
    "\n",
    "# 周波数に変換\n",
    "inlier_extrema_preiods_in_sec = inlier_extrema_periods_in_samples / wav_data_mono_smoothed.sample_rate\n",
    "inlier_extrema_frequency_in_hz = 1.0 / inlier_extrema_preiods_in_sec\n",
    "\n",
    "# プロット\n",
    "nu.plot_envelope({'freq': np.vstack((inlier_control_points_in_subsamples[:-1], inlier_extrema_frequency_in_hz))}, is_log_scale=True)"
   ]
  },
  {
   "cell_type": "markdown",
   "id": "99eb302c-acd6-4c18-9bbc-af9a1bf09573",
   "metadata": {},
   "source": [
    "# 粗い周波数推移を使って波形を再スムージング"
   ]
  },
  {
   "cell_type": "markdown",
   "id": "15739d61-5bb2-4653-ac8c-8144eeaf22e7",
   "metadata": {
    "tags": []
   },
   "source": [
    "# 詳細な周波数推移を推定\n",
    "- ゼロ交差点で囲われた「山」に正弦波を当てはめて厳密な極値位置と周波数と最大振幅を推定"
   ]
  },
  {
   "cell_type": "markdown",
   "id": "35af80d6-daf0-4927-b24f-79e00724feaf",
   "metadata": {},
   "source": [
    "# 周波数推移に式を当てはめ\n",
    "- 周波数の推移データに対して何らかの数式的なモデルを当てはめる\n",
    "- それによりモデルのパラメータを得る\n",
    "- 多分 RANSAC か LMeds"
   ]
  },
  {
   "cell_type": "markdown",
   "id": "a36282a7-a8ba-488f-a7ec-b016fce14584",
   "metadata": {},
   "source": [
    "# 当てはめ結果を元に波形を再構築\n",
    "- モデルと推定したパラメータに基づいて正弦波を再生\n",
    "- ファイルとして保存する\n",
    "- 1/8 音符ジャストのタイミングで振幅が 0 になるように開始位相を補正する"
   ]
  }
 ],
 "metadata": {
  "kernelspec": {
   "display_name": "Python 3 (ipykernel)",
   "language": "python",
   "name": "python3"
  },
  "language_info": {
   "codemirror_mode": {
    "name": "ipython",
    "version": 3
   },
   "file_extension": ".py",
   "mimetype": "text/x-python",
   "name": "python",
   "nbconvert_exporter": "python",
   "pygments_lexer": "ipython3",
   "version": "3.8.10"
  }
 },
 "nbformat": 4,
 "nbformat_minor": 5
}
